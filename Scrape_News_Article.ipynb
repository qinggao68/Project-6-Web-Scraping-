{
 "cells": [
  {
   "cell_type": "code",
   "execution_count": 20,
   "id": "3db99bc7-f5d0-4b6b-9e16-c678586bd624",
   "metadata": {},
   "outputs": [],
   "source": [
    "# !pip install beautifulsoup4\n",
    "# !pip install nltk \n",
    "# !pip install newspaper3k "
   ]
  },
  {
   "cell_type": "code",
   "execution_count": 22,
   "id": "4fe9345b-68e2-41a9-95db-5bb2f075a76e",
   "metadata": {},
   "outputs": [],
   "source": [
    "# Import library \n",
    "import nltk  # Natural Language Toolkit\n",
    "from newspaper import Article # gather information from a website\n",
    "from bs4 import BeautifulSoup"
   ]
  },
  {
   "cell_type": "code",
   "execution_count": 9,
   "id": "1b11ca11-c61a-4cc9-81b9-3c0a3b80e8a4",
   "metadata": {},
   "outputs": [],
   "source": [
    "# The article to summarize \n",
    "# https://www.carwashadvisory.com/learning/car-wash-acquisition-activity-2020.html\n",
    "# https://www.carwashcountry.com/7-car-wash-auto-detailing-trends/\n",
    "# https://www.disruptordaily.com/car-wash-demand-10-startups-watch-2017/\n",
    "# https://www.carwash.com/2022-ma-predictions/\n",
    "link = 'https://www.carwash.com/top-50-tracking-industry-trends/'\n",
    "article = Article(link)"
   ]
  },
  {
   "cell_type": "code",
   "execution_count": 10,
   "id": "303d1cd3-a5be-454f-a79b-c072c1ce2e10",
   "metadata": {},
   "outputs": [
    {
     "name": "stderr",
     "output_type": "stream",
     "text": [
      "[nltk_data] Downloading package punkt to /home/repl/nltk_data...\n",
      "[nltk_data]   Package punkt is already up-to-date!\n"
     ]
    }
   ],
   "source": [
    "# Perform NLP \n",
    "\n",
    "# dn article \n",
    "article.download()\n",
    "article.parse()\n",
    "nltk.download('punkt')\n",
    "article.nlp()"
   ]
  },
  {
   "cell_type": "code",
   "execution_count": 11,
   "id": "0da1c53c-16f5-4898-a560-9d89fd750732",
   "metadata": {},
   "outputs": [
    {
     "data": {
      "text/plain": [
       "['Pcd Staff', 'Michael Rose']"
      ]
     },
     "execution_count": 11,
     "metadata": {},
     "output_type": "execute_result"
    }
   ],
   "source": [
    "# Grab author\n",
    "article.authors"
   ]
  },
  {
   "cell_type": "code",
   "execution_count": 26,
   "id": "4bf434b8-1ea8-47f5-b783-5ef478116358",
   "metadata": {},
   "outputs": [
    {
     "data": {
      "text/plain": [
       "'Top 50: Tracking industry trends'"
      ]
     },
     "execution_count": 26,
     "metadata": {},
     "output_type": "execute_result"
    }
   ],
   "source": [
    "# Grab title\n",
    "article.title"
   ]
  },
  {
   "cell_type": "code",
   "execution_count": 12,
   "id": "7a886ad8-c2aa-412b-b86b-1f2d4c088cf6",
   "metadata": {},
   "outputs": [
    {
     "data": {
      "text/plain": [
       "datetime.datetime(2021, 12, 20, 14, 0, tzinfo=tzlocal())"
      ]
     },
     "execution_count": 12,
     "metadata": {},
     "output_type": "execute_result"
    }
   ],
   "source": [
    "# Grab the published date \n",
    "article.publish_date"
   ]
  },
  {
   "cell_type": "code",
   "execution_count": 13,
   "id": "44ac7245-3553-4418-9422-6da9c9f04d15",
   "metadata": {},
   "outputs": [
    {
     "data": {
      "text/plain": [
       "'Although the professional carwashing industry is known for being highly fragmented, recent years have shown an ever-increasing number of mergers, acquisitions and expansion via new construction. As these growth trends have developed and companies have matured, the exuberant addition of locations to carwash chains has become an industry norm. Surprisingly, this trend of widespread development continued unabated in 2020 — and now in 2021.\\n\\nClick Here to Read More\\n\\nAdvertisement\\n\\nThe 2021 update of Professional Carwashing & Detailing’s annual Top 50 U.S. Conveyor Chain List provides another revealing snapshot of the health and vitality of carwash chains across the country. This year, for the first time ever, year-end projections show that all of the top five chains operate triple-digit wash locations. Further, two more chains appear ready to bolster this “triple-digit club.” According to the list, Tidal Wave Auto Spa and GO Car Wash chains now have 90 or more locations. Similar to 2020, the three largest chains — this year Mister Car Wash, Driven Brands Car Wash North America and Zips Car Wash — all have more than 200 locations each.\\n\\nAdvertisement\\n\\nContinued impressive growth For 2021, overall interest in the carwash industry remained high, according to Paul Fazio, CEO of Sonny’s The CarWash Factory. The fact that Mister Car Wash offered a successful IPO in June certainly helped develop interest in the industry. In fact, the pace of new builds doubled when comparing the periods of 2012 to 2015 versus 2016 to 2020. “We are now seeing yet another increase in that year-over-year, new-build growth,” Fazio reveals. President of Brink Results LLC, Steve Gaudreau notes that 2021 was possibly the greatest year of expansion ever for carwash chains. The pandemic and the challenges it creates are not preventing the carwash industry from adding large numbers of locations. Generally, the full-serve sector is still impacted and has not fully recovered, but for express exterior washes, numbers were up and more locations were being built. The industry absolutely weathered 2021 well.\\n\\nAdvertisement\\n\\n“A lot of the factors that have driven the industry’s growth over the past decade-plus are still in play,” says Dan Pittman, president of DRB Systems. “Unlimited wash plans continue to foster growth. The number of people moving from washing cars in their driveway to using a professional carwash continues to grow. Investors continue to be attracted to the industry for its growth trend and low overhead. Add to that the emergence of advanced technology that allows easy data replication and standardization between sites, and you have the perfect storm for ongoing growth.” In a word, the 2021 growth trends in the carwash market were “incredible,” states Jeff Pavone, partner at Amplify Car Wash Advisors. Even with all the obstacles that two years of pandemic conditions offered, the carwash market emerged better than ever. The last year showcased just how powerful monthly memberships are and how resilient this carwash industry truly is.\\n\\nAdvertisement\\n\\nNotable numbers and totals For 2021, the Top 50 totals show more locations added than ever before — and by a huge measure, Gaudreau points out. Over the past year, initial numbers show more than 720 conveyor locations were added to the top 50 chains. “That’s just an astounding number,” Gaudreau continues. Early calculations reveal the chains ranked one through 10 in the 2021 list added an approximate average of 36 conveyors per company over the last year — that is explosive growth for the top 10 chains, Gaudreau notes. This surge is especially surprising considering many would expect smaller chains to target aggressive expansion. However, in 2021 it was the largest chains that were adding the largest numbers of locations.\\n\\nAdvertisement\\n\\nGaudreau further reveals that 2021 conveyor totals also show the highest amount of new-build conveyor carwashes in terms of the number of new locations. In 2021, 40% of estimated growth for the top 10 conveyor chains was via new construction. “There’s never been that kind of new building going on until last year,” Gaudreau explains. “In 2020, the acquisitions had not slowed down yet, but people forecasted they were starting to. The chains were just acquiring and acquiring, but now they’ve started the development. The number of new builds is just unbelievable.” Tallying up the chains in the Top 50 list, this year’s early totals suggest the lowest percentage of family firm ownership ever. According to Gaudreau, less than one-third of the chains on the list are family firms. The rest are owned by “venture capital firms.” This year is the first time that venture capital firms have dominated the Top 50 list.\\n\\nAdvertisement\\n\\n“I think this year is a tipping point of when the industry flipped,” Gaudreau continues. “Twenty-nine of the top 50 are owned by large equity firms; it’s the first time family firms are in the minority. This tipping point will mark a forever change for the industry. Once the private equity firms have bought out the family firms, they’re not going back to family firms. The industry was moving gradually in that direction the last couple of years, but this year — wow — just a total flip.” Other industry shifts appeared based on the totals for 2021. With Tommy’s Express Car Wash breaking into the top five, this is the first time a franchise chain has made a big move at the top of the Top 50 list.\\n\\nAdvertisement\\n\\nEncouraging signs Pavone states that the exceptional performance compared to other industries has made the carwash market more attractive to private equity. This noted performance is largely driving carwash chain growth. Additionally, consumer demand for carwashing continues to rise as ongoing expansion makes carwashing even more accessible. Fazio agrees, pointing out that the express carwash model features a low-labor, high-margin and scalable model. Carwashes have an evident track record that now includes easily surviving a recession as well as COVID-19 challenges. “Even with inflation, investors that are good at this are hard-pressed to find a better alternative investment. And now with some of the newer entrants to the party, we are seeing higher multiples being bid so that they can quickly build a platform, scale and, overnight, become a player in this game,” Fazio says. “This is causing some carwash owners who have said they would never sell to change their minds. Interesting times.”\\n\\nAdvertisement\\n\\nBill Martin with Metro Express Car Wash reports that the success and stability of the carwash industry is a result of factors like recurring revenue with subscription plans, emergence as a relatively COVID-proof business, widespread consumer acceptance and the growing popularity of the express exterior carwash model. All these positive signs have attracted more private equity buyers to the market. These firms have aggressively sought out well-performing carwash chains and driven up valuations. As valuations rise, more owners who were perhaps on the fence about selling have accepted offers because many do not know how much further values will climb or if prices have already hit a peak.\\n\\nAdvertisement\\n\\nChallenges to growth For chains looking to add locations and expand, Martin explains that keeping construction prices within budget and maintaining a targeted timeline have proven more and more challenging. “We saw a lot of municipal staff in cities around the country operating remotely, so what used to take six weeks for municipal approval was taking 12 weeks and pushing the timeline out even further,” Martin states. Pittman notes that supply chain issues and labor shortages are making expansion more challenging as 2021 comes to an end. Two other big factors are competition and real estate costs. As more investors enter the market, it makes finding sites more difficult, and when a potential site is found, it is often expensive. Fortunately, the industry seems to be overcoming these issues and continues to grow.\\n\\nAdvertisement\\n\\nLand acquisition, human resources and construction supplies now present significant challenges, Fazio states. There is land out there, but good sites are not easy to come by currently. Investors should always take the time to get a site analysis completed by carwash experts. The labor shortage has also affected expansion plans due to the lack of workers at construction and development companies. Additionally, inspection scheduling and city/county permitting turnaround times have increased. And finally, construction supplies are causing issues — there are several locations on hold because the main steel building beams are backordered and causing delays. Pavone also notes that supply side disruptions, longer delivery times and rising costs are dramatically affecting carwash chain growth. Additionally, competition for good sites is a common issue.\\n\\nAdvertisement\\n\\nAttracting and hiring new employees in 2021 got much more challenging quarter by quarter. “Recruiting has been incredibly difficult,” Gaudreau says. “There have not been responses to help-wanted ads, and expected pay has gone up dramatically. Costco and Amazon entry-level pay is $18 an hour; it’s astronomical. Every industry is facing this challenge, and the carwash industry is no different.” As a result of the labor challenges, some carwashes are “running tight” in terms of the number of employees on-site, Gaudreau explains. As far as safety issues go, they are affected by the low number of people on wash properties. One employee may be opening and closing a wash alone, and there are managers pulling double shifts because the workers are not there. “I’ve been in the industry 30 years, and I’ve never seen anything remotely difficult as recruiting is right now. I honestly can’t exaggerate it,” Gaudreau says.\\n\\nAdvertisement\\n\\nSupply chain challenges Like all industries, one challenge all carwash chains may have to face continuing into 2022 are widespread supply chain issues. When watching the nightly news, an operator cannot help but see footage of more than 100 cargo ships off the coast of California or the empty shelves in the stores, Fazio notes. There are shortages in various products and construction materials that are either increasing the price or causing delays in new construction. “We believe we are about to see the new-build growth rate increase yet again,” Fazio continues. “With this in mind, we are doing things to make sure we will be in a position to stay ahead of the supply chain issues we are seeing.”\\n\\nAdvertisement\\n\\nThankfully, some carwash suppliers are true manufacturers that don’t have to rely on other manufacturers to make equipment. True manufacturers can adjust as needed and where needed. Fazio provides an example of not being able to get a certain part from a casting supplier. Here, the company can go back to making that part from machined and welded items like it did in the past. This flexibility allows the supply company to continue having short lead times while providing quality products to those in the industry. Pittman points out that supply chain issues are certainly a concern, but they have not killed expansion plans for carwashes. There is still unprecedented growth, and a sophisticated and effective team response means not missing a system order and lower lead times.\\n\\nAdvertisement\\n\\nSupply chain issues have disrupted construction efficiencies and have hindered growth to a degree, Martin notes. That said, companies are still able to build new sites, but many have lost previous efficiencies. At one of Martin’s wash locations, the facility is still waiting on overhead doors. Other than that, the site is completely ready to go. This is a new challenge, but washes are adapting and now estimating additional time for construction. Gaudreau states that the supply chain — much like the labor market — got more difficult quarter by quarter as the year progressed. Openings have been delayed because equipment is not there, and that has affected how fast people can expand. To think that a chain spent $4 million or $5 million on a new site and is waiting on a couple of parts from the supply chain or to hire a few entry-level employees … it has been brutal.\\n\\nAdvertisement'"
      ]
     },
     "execution_count": 13,
     "metadata": {},
     "output_type": "execute_result"
    }
   ],
   "source": [
    "# Grab the article text\n",
    "article.text"
   ]
  },
  {
   "cell_type": "code",
   "execution_count": 15,
   "id": "f0c07a9d-a334-475c-8f29-89c72dd47647",
   "metadata": {},
   "outputs": [
    {
     "name": "stdout",
     "output_type": "stream",
     "text": [
      "As these growth trends have developed and companies have matured, the exuberant addition of locations to carwash chains has become an industry norm.\n",
      "AdvertisementContinued impressive growth For 2021, overall interest in the carwash industry remained high, according to Paul Fazio, CEO of Sonny’s The CarWash Factory.\n",
      "The pandemic and the challenges it creates are not preventing the carwash industry from adding large numbers of locations.\n",
      "The last year showcased just how powerful monthly memberships are and how resilient this carwash industry truly is.\n",
      "Pavone also notes that supply side disruptions, longer delivery times and rising costs are dramatically affecting carwash chain growth.\n"
     ]
    }
   ],
   "source": [
    "# Get the summary of the article\n",
    "print(article.summary)"
   ]
  },
  {
   "cell_type": "code",
   "execution_count": 16,
   "id": "44c97e30-16d4-4c97-9365-14279f464d09",
   "metadata": {},
   "outputs": [
    {
     "name": "stdout",
     "output_type": "stream",
     "text": [
      "['locations', 'wash', 'tracking', 'industry', '2021', 'chains', '50', 'growth', 'carwash', 'construction', 'trends', 'chain', 'gaudreau']\n"
     ]
    }
   ],
   "source": [
    "# Grab keywords \n",
    "print(article.keywords)"
   ]
  }
 ],
 "metadata": {
  "kernelspec": {
   "display_name": "Python 3 (ipykernel)",
   "language": "python",
   "name": "python3"
  },
  "language_info": {
   "codemirror_mode": {
    "name": "ipython",
    "version": 3
   },
   "file_extension": ".py",
   "mimetype": "text/x-python",
   "name": "python",
   "nbconvert_exporter": "python",
   "pygments_lexer": "ipython3",
   "version": "3.8.10"
  }
 },
 "nbformat": 4,
 "nbformat_minor": 5
}
